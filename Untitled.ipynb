{
 "cells": [
  {
   "cell_type": "code",
   "execution_count": 1,
   "id": "0c63ea3f-c7c4-4ee4-95b3-3eddde12daa9",
   "metadata": {},
   "outputs": [],
   "source": [
    "import pandas as pd\n",
    "import numpy as np\n",
    "import seaborn as sns\n",
    "import json\n",
    "import os\n",
    "import re\n",
    "import requests\n",
    "from bs4 import BeautifulSoup\n",
    "import tweepy\n",
    "import config\n",
    "import timeit\n",
    "import datetime\n",
    "from datetime import date as dt\n",
    "import matplotlib.pyplot as plt\n"
   ]
  },
  {
   "cell_type": "code",
   "execution_count": 3,
   "id": "1433ef83-c519-4023-9f66-91de53765d51",
   "metadata": {},
   "outputs": [
    {
     "data": {
      "text/html": [
       "<div>\n",
       "<style scoped>\n",
       "    .dataframe tbody tr th:only-of-type {\n",
       "        vertical-align: middle;\n",
       "    }\n",
       "\n",
       "    .dataframe tbody tr th {\n",
       "        vertical-align: top;\n",
       "    }\n",
       "\n",
       "    .dataframe thead th {\n",
       "        text-align: right;\n",
       "    }\n",
       "</style>\n",
       "<table border=\"1\" class=\"dataframe\">\n",
       "  <thead>\n",
       "    <tr style=\"text-align: right;\">\n",
       "      <th></th>\n",
       "      <th>tweet_id</th>\n",
       "      <th>in_reply_to_status_id</th>\n",
       "      <th>in_reply_to_user_id</th>\n",
       "      <th>timestamp</th>\n",
       "      <th>source</th>\n",
       "      <th>text</th>\n",
       "      <th>retweeted_status_id</th>\n",
       "      <th>retweeted_status_user_id</th>\n",
       "      <th>retweeted_status_timestamp</th>\n",
       "      <th>expanded_urls</th>\n",
       "      <th>rating_numerator</th>\n",
       "      <th>rating_denominator</th>\n",
       "      <th>name</th>\n",
       "      <th>doggo</th>\n",
       "      <th>floofer</th>\n",
       "      <th>pupper</th>\n",
       "      <th>puppo</th>\n",
       "    </tr>\n",
       "  </thead>\n",
       "  <tbody>\n",
       "    <tr>\n",
       "      <th>0</th>\n",
       "      <td>892420643555336193</td>\n",
       "      <td>NaN</td>\n",
       "      <td>NaN</td>\n",
       "      <td>2017-08-01 16:23:56 +0000</td>\n",
       "      <td>&lt;a href=\"http://twitter.com/download/iphone\" r...</td>\n",
       "      <td>This is Phineas. He's a mystical boy. Only eve...</td>\n",
       "      <td>NaN</td>\n",
       "      <td>NaN</td>\n",
       "      <td>NaN</td>\n",
       "      <td>https://twitter.com/dog_rates/status/892420643...</td>\n",
       "      <td>13</td>\n",
       "      <td>10</td>\n",
       "      <td>Phineas</td>\n",
       "      <td>None</td>\n",
       "      <td>None</td>\n",
       "      <td>None</td>\n",
       "      <td>None</td>\n",
       "    </tr>\n",
       "    <tr>\n",
       "      <th>1</th>\n",
       "      <td>892177421306343426</td>\n",
       "      <td>NaN</td>\n",
       "      <td>NaN</td>\n",
       "      <td>2017-08-01 00:17:27 +0000</td>\n",
       "      <td>&lt;a href=\"http://twitter.com/download/iphone\" r...</td>\n",
       "      <td>This is Tilly. She's just checking pup on you....</td>\n",
       "      <td>NaN</td>\n",
       "      <td>NaN</td>\n",
       "      <td>NaN</td>\n",
       "      <td>https://twitter.com/dog_rates/status/892177421...</td>\n",
       "      <td>13</td>\n",
       "      <td>10</td>\n",
       "      <td>Tilly</td>\n",
       "      <td>None</td>\n",
       "      <td>None</td>\n",
       "      <td>None</td>\n",
       "      <td>None</td>\n",
       "    </tr>\n",
       "  </tbody>\n",
       "</table>\n",
       "</div>"
      ],
      "text/plain": [
       "             tweet_id  in_reply_to_status_id  in_reply_to_user_id  \\\n",
       "0  892420643555336193                    NaN                  NaN   \n",
       "1  892177421306343426                    NaN                  NaN   \n",
       "\n",
       "                   timestamp  \\\n",
       "0  2017-08-01 16:23:56 +0000   \n",
       "1  2017-08-01 00:17:27 +0000   \n",
       "\n",
       "                                              source  \\\n",
       "0  <a href=\"http://twitter.com/download/iphone\" r...   \n",
       "1  <a href=\"http://twitter.com/download/iphone\" r...   \n",
       "\n",
       "                                                text  retweeted_status_id  \\\n",
       "0  This is Phineas. He's a mystical boy. Only eve...                  NaN   \n",
       "1  This is Tilly. She's just checking pup on you....                  NaN   \n",
       "\n",
       "   retweeted_status_user_id retweeted_status_timestamp  \\\n",
       "0                       NaN                        NaN   \n",
       "1                       NaN                        NaN   \n",
       "\n",
       "                                       expanded_urls  rating_numerator  \\\n",
       "0  https://twitter.com/dog_rates/status/892420643...                13   \n",
       "1  https://twitter.com/dog_rates/status/892177421...                13   \n",
       "\n",
       "   rating_denominator     name doggo floofer pupper puppo  \n",
       "0                  10  Phineas  None    None   None  None  \n",
       "1                  10    Tilly  None    None   None  None  "
      ]
     },
     "execution_count": 3,
     "metadata": {},
     "output_type": "execute_result"
    }
   ],
   "source": [
    "#read and preview dataset\n",
    "twitter_archive=pd.read_csv('twitter_archive_enhanced.csv')\n",
    "twitter_archive.head(2)"
   ]
  },
  {
   "cell_type": "code",
   "execution_count": 16,
   "id": "0a0f3876-9d8c-4ef8-a772-2d45927bfb35",
   "metadata": {},
   "outputs": [
    {
     "name": "stdout",
     "output_type": "stream",
     "text": [
      "Successful pulls: 5\n",
      "Tweet IDs left to complete: 2351\n",
      "Failed attempts: 0\n",
      "Time spent:0.0008927999999741587secs\n"
     ]
    }
   ],
   "source": [
    "if True:\n",
    "    def notrification(x,y,z):\n",
    "        x=pulled_tweet_ids\n",
    "        y=tweet_ids\n",
    "        z=error_log\n",
    "        print('Successful pulls: {}'. format(len(x)))\n",
    "        print(\"Tweet IDs left to complete: {}\".format(len(y)-(len(x)+len(z))))\n",
    "        print(\"Failed attempts: {}\".format(len(z)))\n",
    "        \n",
    "    # authenticate\n",
    "    auth = tweepy.OAuthHandler(config.consumer_key, config.consumer_secret)\n",
    "    auth.set_access_token(config.access_token, config.access_secret)\n",
    "    #get the user object for twitter\n",
    "    api = tweepy.API(auth,wait_on_rate_limit=True,parser=tweepy.parsers.JSONParser())\n",
    "    #get list of all tweet IDs\n",
    "    tweet_ids=twitter_archive.tweet_id.sort_values().to_list()\n",
    "    count=0\n",
    "    pulled_tweet_ids=[]\n",
    "    error_log=[]\n",
    "    start = timeit.timeit()\n",
    "    with open('complementary_tweet_archive.json','w') as file:\n",
    "        for tweet_id in tweet_ids[:5]:\n",
    "            try:\n",
    "                tweet = api.get_status(tweet_id)\n",
    "                json.dump(tweet,file)\n",
    "                dict={\n",
    "                \"tweet_id\":tweet['id'],\n",
    "                \"favorite_count\":tweet['favorite_count'],\n",
    "                \"retweet_count\":tweet['retweet_count']\n",
    "                }\n",
    "                pulled_tweet_ids.append(dict)\n",
    "                if len(pulled_tweet_ids)%500==0:\n",
    "                    #print out summary\n",
    "                    notrification(x=pulled_tweet_ids,y=tweet_ids,z=error_log)\n",
    "                    print(50*'-')\n",
    "                \n",
    "            except Exception as e:\n",
    "                error={\n",
    "                \"tweet_id\":tweet_id,\n",
    "                \"reason\":e\n",
    "                }\n",
    "                error_log.append(error)\n",
    "                print(\"{} encountered this error: \".format(tweet_id),e)\n",
    "            \n",
    "            \n",
    "\n",
    "    #print out summary\n",
    "    notrification(x=pulled_tweet_ids,y=tweet_ids,z=error_log)\n",
    "    end = timeit.timeit()\n",
    "    time_spent=(end - start)\n",
    "    print(\"Time spent:{}secs\".format(time_spent))"
   ]
  },
  {
   "cell_type": "code",
   "execution_count": 18,
   "id": "267105a1-940d-4413-9a78-1369ecfcf255",
   "metadata": {},
   "outputs": [],
   "source": [
    "api_pulled_df=pd.read_csv(\"complementary_tweet_archive.csv\")"
   ]
  },
  {
   "cell_type": "code",
   "execution_count": 20,
   "id": "a6621ebd-2061-434c-8264-3bc2499debd8",
   "metadata": {},
   "outputs": [],
   "source": [
    "twitter_archive=pd.read_csv('twitter_archive_enhanced.csv')"
   ]
  },
  {
   "cell_type": "code",
   "execution_count": 27,
   "id": "57bdccb2-8ba6-49a9-abd1-2d60c802c5cc",
   "metadata": {},
   "outputs": [],
   "source": [
    "df=twitter_archive"
   ]
  },
  {
   "cell_type": "code",
   "execution_count": 28,
   "id": "e308b78e-da10-4fd3-9ae4-fe5981307c4d",
   "metadata": {},
   "outputs": [
    {
     "data": {
      "text/plain": [
       "Index(['tweet_id', 'in_reply_to_status_id', 'in_reply_to_user_id', 'timestamp',\n",
       "       'source', 'text', 'retweeted_status_id', 'retweeted_status_user_id',\n",
       "       'retweeted_status_timestamp', 'expanded_urls', 'rating_numerator',\n",
       "       'rating_denominator', 'name', 'doggo', 'floofer', 'pupper', 'puppo'],\n",
       "      dtype='object')"
      ]
     },
     "execution_count": 28,
     "metadata": {},
     "output_type": "execute_result"
    }
   ],
   "source": [
    "df.columns"
   ]
  },
  {
   "cell_type": "code",
   "execution_count": 40,
   "id": "33025ee6-dd75-4b50-bbbd-68d2322c06f8",
   "metadata": {},
   "outputs": [
    {
     "data": {
      "text/plain": [
       "59"
      ]
     },
     "execution_count": 40,
     "metadata": {},
     "output_type": "execute_result"
    }
   ],
   "source": [
    "df.expanded_urls.value_counts(dropna=False).to_list()[0]"
   ]
  },
  {
   "cell_type": "code",
   "execution_count": 44,
   "id": "8cde5b01-c57d-4c27-86c4-cb7d494f9e5f",
   "metadata": {},
   "outputs": [],
   "source": [
    "df=pd.read_csv(\"test.csv\")"
   ]
  },
  {
   "cell_type": "code",
   "execution_count": 45,
   "id": "e540ec3d-2995-4ec7-8790-70c5d283fa20",
   "metadata": {},
   "outputs": [
    {
     "name": "stdout",
     "output_type": "stream",
     "text": [
      "<class 'pandas.core.frame.DataFrame'>\n",
      "RangeIndex: 2097 entries, 0 to 2096\n",
      "Data columns (total 11 columns):\n",
      " #   Column              Non-Null Count  Dtype \n",
      "---  ------              --------------  ----- \n",
      " 0   Unnamed: 0          2097 non-null   int64 \n",
      " 1   tweet_id            2097 non-null   int64 \n",
      " 2   timestamp           2097 non-null   object\n",
      " 3   text                2097 non-null   object\n",
      " 4   source              2097 non-null   object\n",
      " 5   tweet_url           2094 non-null   object\n",
      " 6   hashtag             2097 non-null   object\n",
      " 7   rating_numerator    2097 non-null   int64 \n",
      " 8   rating_denominator  2097 non-null   int64 \n",
      " 9   name                2097 non-null   object\n",
      " 10  dog_stage           2097 non-null   object\n",
      "dtypes: int64(4), object(7)\n",
      "memory usage: 180.3+ KB\n"
     ]
    }
   ],
   "source": [
    "df.info()"
   ]
  },
  {
   "cell_type": "code",
   "execution_count": 47,
   "id": "9ffe18d2-a2cb-4b76-989e-2ca2f92cf792",
   "metadata": {},
   "outputs": [
    {
     "data": {
      "text/html": [
       "<div>\n",
       "<style scoped>\n",
       "    .dataframe tbody tr th:only-of-type {\n",
       "        vertical-align: middle;\n",
       "    }\n",
       "\n",
       "    .dataframe tbody tr th {\n",
       "        vertical-align: top;\n",
       "    }\n",
       "\n",
       "    .dataframe thead th {\n",
       "        text-align: right;\n",
       "    }\n",
       "</style>\n",
       "<table border=\"1\" class=\"dataframe\">\n",
       "  <thead>\n",
       "    <tr style=\"text-align: right;\">\n",
       "      <th></th>\n",
       "      <th>Unnamed: 0</th>\n",
       "      <th>tweet_id</th>\n",
       "      <th>timestamp</th>\n",
       "      <th>text</th>\n",
       "      <th>source</th>\n",
       "      <th>tweet_url</th>\n",
       "      <th>hashtag</th>\n",
       "      <th>rating_numerator</th>\n",
       "      <th>rating_denominator</th>\n",
       "      <th>name</th>\n",
       "      <th>dog_stage</th>\n",
       "    </tr>\n",
       "  </thead>\n",
       "  <tbody>\n",
       "    <tr>\n",
       "      <th>0</th>\n",
       "      <td>0</td>\n",
       "      <td>892420643555336193</td>\n",
       "      <td>2017-08-01 16:23:56 +0000</td>\n",
       "      <td>This is Phineas. He's a mystical boy. Only eve...</td>\n",
       "      <td>&lt;a href=\"http://twitter.com/download/iphone\" r...</td>\n",
       "      <td>https://t.co/MgUWQ76dJU</td>\n",
       "      <td>unhashtaged</td>\n",
       "      <td>13</td>\n",
       "      <td>10</td>\n",
       "      <td>Phineas</td>\n",
       "      <td>unclassified</td>\n",
       "    </tr>\n",
       "  </tbody>\n",
       "</table>\n",
       "</div>"
      ],
      "text/plain": [
       "   Unnamed: 0            tweet_id                  timestamp  \\\n",
       "0           0  892420643555336193  2017-08-01 16:23:56 +0000   \n",
       "\n",
       "                                                text  \\\n",
       "0  This is Phineas. He's a mystical boy. Only eve...   \n",
       "\n",
       "                                              source                tweet_url  \\\n",
       "0  <a href=\"http://twitter.com/download/iphone\" r...  https://t.co/MgUWQ76dJU   \n",
       "\n",
       "       hashtag  rating_numerator  rating_denominator     name     dog_stage  \n",
       "0  unhashtaged                13                  10  Phineas  unclassified  "
      ]
     },
     "execution_count": 47,
     "metadata": {},
     "output_type": "execute_result"
    }
   ],
   "source": [
    "df.head(1)"
   ]
  },
  {
   "cell_type": "code",
   "execution_count": 48,
   "id": "81c0f2fc-48c6-42fe-9921-ddb7452acafe",
   "metadata": {},
   "outputs": [
    {
     "ename": "NameError",
     "evalue": "name 'archive_tweet_clean' is not defined",
     "output_type": "error",
     "traceback": [
      "\u001b[1;31m---------------------------------------------------------------------------\u001b[0m",
      "\u001b[1;31mNameError\u001b[0m                                 Traceback (most recent call last)",
      "Input \u001b[1;32mIn [48]\u001b[0m, in \u001b[0;36m<cell line: 11>\u001b[1;34m()\u001b[0m\n\u001b[0;32m      8\u001b[0m twitter_feature\u001b[38;5;241m=\u001b[39mpd\u001b[38;5;241m.\u001b[39mSeries(anchor_tag_contents)\n\u001b[0;32m     10\u001b[0m \u001b[38;5;66;03m#substute text in source for text in tags\u001b[39;00m\n\u001b[1;32m---> 11\u001b[0m \u001b[43marchive_tweet_clean\u001b[49m\u001b[38;5;241m.\u001b[39mloc[:,\u001b[38;5;124m\"\u001b[39m\u001b[38;5;124msource\u001b[39m\u001b[38;5;124m\"\u001b[39m]\u001b[38;5;241m=\u001b[39manchor_tag_contents\n",
      "\u001b[1;31mNameError\u001b[0m: name 'archive_tweet_clean' is not defined"
     ]
    }
   ],
   "source": [
    "anchor_tag_contents=[]\n",
    "#collect contents from anchor tags\n",
    "for link in twitter_archive['source']:\n",
    "    soup=BeautifulSoup(link)\n",
    "    row=soup.find('a').text\n",
    "    anchor_tag_contents.append(row)\n",
    " #convert to pandas series   \n",
    "twitter_feature=pd.Series(anchor_tag_contents)\n",
    "\n",
    "#substute text in source for text in tags\n",
    "archive_tweet_clean.loc[:,\"source\"]=anchor_tag_contents"
   ]
  },
  {
   "cell_type": "code",
   "execution_count": 50,
   "id": "e6997c1d-dba4-44f4-96da-d3b954187ddf",
   "metadata": {},
   "outputs": [
    {
     "data": {
      "text/plain": [
       "'<a href=\"http://twitter.com/download/iphone\" rel=\"nofollow\">Twitter for iPhone</a>'"
      ]
     },
     "execution_count": 51,
     "metadata": {},
     "output_type": "execute_result"
    }
   ],
   "source": [
    "df.source[]"
   ]
  },
  {
   "cell_type": "code",
   "execution_count": 53,
   "id": "731f5b0e-efe7-437a-99bd-e6b7c3d84f5a",
   "metadata": {},
   "outputs": [],
   "source": [
    "df['name']=df['name'].str.title()"
   ]
  },
  {
   "cell_type": "code",
   "execution_count": 54,
   "id": "52b64b0c-1541-44d0-88b2-f5a0352ce2f6",
   "metadata": {},
   "outputs": [
    {
     "data": {
      "text/plain": [
       "0        Phineas\n",
       "1          Tilly\n",
       "2         Archie\n",
       "3          Darla\n",
       "4       Franklin\n",
       "          ...   \n",
       "2092        None\n",
       "2093           A\n",
       "2094           A\n",
       "2095           A\n",
       "2096        None\n",
       "Name: name, Length: 2097, dtype: object"
      ]
     },
     "execution_count": 54,
     "metadata": {},
     "output_type": "execute_result"
    }
   ],
   "source": [
    "df.name"
   ]
  },
  {
   "cell_type": "code",
   "execution_count": null,
   "id": "7088fba0-9bee-4e59-b03f-c05b205eff5d",
   "metadata": {},
   "outputs": [],
   "source": []
  }
 ],
 "metadata": {
  "kernelspec": {
   "display_name": "Python 3 (ipykernel)",
   "language": "python",
   "name": "python3"
  },
  "language_info": {
   "codemirror_mode": {
    "name": "ipython",
    "version": 3
   },
   "file_extension": ".py",
   "mimetype": "text/x-python",
   "name": "python",
   "nbconvert_exporter": "python",
   "pygments_lexer": "ipython3",
   "version": "3.9.12"
  }
 },
 "nbformat": 4,
 "nbformat_minor": 5
}
